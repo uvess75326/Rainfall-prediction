{
 "cells": [
  {
   "cell_type": "markdown",
   "metadata": {},
   "source": [
    "# Rainfall-Prediction"
   ]
  },
  {
   "cell_type": "code",
   "execution_count": 1,
   "metadata": {},
   "outputs": [],
   "source": [
    "import pandas as pd\n",
    "import numpy as np\n",
    "import matplotlib.pyplot as plt\n",
    "%matplotlib inline"
   ]
  },
  {
   "cell_type": "code",
   "execution_count": 2,
   "metadata": {},
   "outputs": [],
   "source": [
    "#importing the dataset\n",
    "data = pd.read_csv('rainfall.csv')\n"
   ]
  },
  {
   "cell_type": "code",
   "execution_count": 3,
   "metadata": {},
   "outputs": [
    {
     "data": {
      "text/html": [
       "<div>\n",
       "<style scoped>\n",
       "    .dataframe tbody tr th:only-of-type {\n",
       "        vertical-align: middle;\n",
       "    }\n",
       "\n",
       "    .dataframe tbody tr th {\n",
       "        vertical-align: top;\n",
       "    }\n",
       "\n",
       "    .dataframe thead th {\n",
       "        text-align: right;\n",
       "    }\n",
       "</style>\n",
       "<table border=\"1\" class=\"dataframe\">\n",
       "  <thead>\n",
       "    <tr style=\"text-align: right;\">\n",
       "      <th></th>\n",
       "      <th>Year</th>\n",
       "      <th>Month</th>\n",
       "      <th>High temp</th>\n",
       "      <th>Low temp</th>\n",
       "      <th>Month_Total</th>\n",
       "    </tr>\n",
       "  </thead>\n",
       "  <tbody>\n",
       "    <tr>\n",
       "      <th>count</th>\n",
       "      <td>7232.000000</td>\n",
       "      <td>7232.000000</td>\n",
       "      <td>7232.000000</td>\n",
       "      <td>7232.000000</td>\n",
       "      <td>7232.000000</td>\n",
       "    </tr>\n",
       "    <tr>\n",
       "      <th>mean</th>\n",
       "      <td>2003.534845</td>\n",
       "      <td>6.498341</td>\n",
       "      <td>30.698894</td>\n",
       "      <td>21.382923</td>\n",
       "      <td>202.341123</td>\n",
       "    </tr>\n",
       "    <tr>\n",
       "      <th>std</th>\n",
       "      <td>5.192881</td>\n",
       "      <td>3.452424</td>\n",
       "      <td>2.884136</td>\n",
       "      <td>4.937484</td>\n",
       "      <td>248.991297</td>\n",
       "    </tr>\n",
       "    <tr>\n",
       "      <th>min</th>\n",
       "      <td>1995.000000</td>\n",
       "      <td>1.000000</td>\n",
       "      <td>19.500000</td>\n",
       "      <td>8.200000</td>\n",
       "      <td>0.000000</td>\n",
       "    </tr>\n",
       "    <tr>\n",
       "      <th>25%</th>\n",
       "      <td>1999.000000</td>\n",
       "      <td>3.000000</td>\n",
       "      <td>29.300000</td>\n",
       "      <td>17.200000</td>\n",
       "      <td>7.000000</td>\n",
       "    </tr>\n",
       "    <tr>\n",
       "      <th>50%</th>\n",
       "      <td>2004.000000</td>\n",
       "      <td>6.000000</td>\n",
       "      <td>31.500000</td>\n",
       "      <td>23.500000</td>\n",
       "      <td>113.000000</td>\n",
       "    </tr>\n",
       "    <tr>\n",
       "      <th>75%</th>\n",
       "      <td>2008.000000</td>\n",
       "      <td>9.000000</td>\n",
       "      <td>32.600000</td>\n",
       "      <td>25.600000</td>\n",
       "      <td>315.250000</td>\n",
       "    </tr>\n",
       "    <tr>\n",
       "      <th>max</th>\n",
       "      <td>2012.000000</td>\n",
       "      <td>12.000000</td>\n",
       "      <td>39.100000</td>\n",
       "      <td>28.100000</td>\n",
       "      <td>3001.000000</td>\n",
       "    </tr>\n",
       "  </tbody>\n",
       "</table>\n",
       "</div>"
      ],
      "text/plain": [
       "              Year        Month    High temp     Low temp  Month_Total\n",
       "count  7232.000000  7232.000000  7232.000000  7232.000000  7232.000000\n",
       "mean   2003.534845     6.498341    30.698894    21.382923   202.341123\n",
       "std       5.192881     3.452424     2.884136     4.937484   248.991297\n",
       "min    1995.000000     1.000000    19.500000     8.200000     0.000000\n",
       "25%    1999.000000     3.000000    29.300000    17.200000     7.000000\n",
       "50%    2004.000000     6.000000    31.500000    23.500000   113.000000\n",
       "75%    2008.000000     9.000000    32.600000    25.600000   315.250000\n",
       "max    2012.000000    12.000000    39.100000    28.100000  3001.000000"
      ]
     },
     "execution_count": 3,
     "metadata": {},
     "output_type": "execute_result"
    }
   ],
   "source": [
    "data.describe()\n"
   ]
  },
  {
   "cell_type": "code",
   "execution_count": 4,
   "metadata": {},
   "outputs": [
    {
     "data": {
      "text/html": [
       "<div>\n",
       "<style scoped>\n",
       "    .dataframe tbody tr th:only-of-type {\n",
       "        vertical-align: middle;\n",
       "    }\n",
       "\n",
       "    .dataframe tbody tr th {\n",
       "        vertical-align: top;\n",
       "    }\n",
       "\n",
       "    .dataframe thead th {\n",
       "        text-align: right;\n",
       "    }\n",
       "</style>\n",
       "<table border=\"1\" class=\"dataframe\">\n",
       "  <thead>\n",
       "    <tr style=\"text-align: right;\">\n",
       "      <th></th>\n",
       "      <th>Station</th>\n",
       "      <th>Year</th>\n",
       "      <th>Month</th>\n",
       "      <th>High temp</th>\n",
       "      <th>Low temp</th>\n",
       "      <th>1</th>\n",
       "      <th>2</th>\n",
       "      <th>3</th>\n",
       "      <th>4</th>\n",
       "      <th>5</th>\n",
       "      <th>...</th>\n",
       "      <th>23</th>\n",
       "      <th>24</th>\n",
       "      <th>25</th>\n",
       "      <th>26</th>\n",
       "      <th>27</th>\n",
       "      <th>28</th>\n",
       "      <th>29</th>\n",
       "      <th>30</th>\n",
       "      <th>31</th>\n",
       "      <th>Month_Total</th>\n",
       "    </tr>\n",
       "  </thead>\n",
       "  <tbody>\n",
       "    <tr>\n",
       "      <th>0</th>\n",
       "      <td>Barisal</td>\n",
       "      <td>1995</td>\n",
       "      <td>1</td>\n",
       "      <td>24.9</td>\n",
       "      <td>10.7</td>\n",
       "      <td>0</td>\n",
       "      <td>0</td>\n",
       "      <td>0</td>\n",
       "      <td>0</td>\n",
       "      <td>0</td>\n",
       "      <td>...</td>\n",
       "      <td>0</td>\n",
       "      <td>0</td>\n",
       "      <td>0</td>\n",
       "      <td>0</td>\n",
       "      <td>0</td>\n",
       "      <td>0</td>\n",
       "      <td>0</td>\n",
       "      <td>0</td>\n",
       "      <td>0</td>\n",
       "      <td>1</td>\n",
       "    </tr>\n",
       "    <tr>\n",
       "      <th>1</th>\n",
       "      <td>Barisal</td>\n",
       "      <td>1995</td>\n",
       "      <td>2</td>\n",
       "      <td>27.7</td>\n",
       "      <td>15.0</td>\n",
       "      <td>0</td>\n",
       "      <td>0</td>\n",
       "      <td>0</td>\n",
       "      <td>0</td>\n",
       "      <td>0</td>\n",
       "      <td>...</td>\n",
       "      <td>0</td>\n",
       "      <td>21</td>\n",
       "      <td>6</td>\n",
       "      <td>0</td>\n",
       "      <td>0</td>\n",
       "      <td>7</td>\n",
       "      <td>NaN</td>\n",
       "      <td>NaN</td>\n",
       "      <td>NaN</td>\n",
       "      <td>62</td>\n",
       "    </tr>\n",
       "    <tr>\n",
       "      <th>2</th>\n",
       "      <td>Barisal</td>\n",
       "      <td>1995</td>\n",
       "      <td>3</td>\n",
       "      <td>33.0</td>\n",
       "      <td>19.5</td>\n",
       "      <td>6</td>\n",
       "      <td>0</td>\n",
       "      <td>0</td>\n",
       "      <td>0</td>\n",
       "      <td>0</td>\n",
       "      <td>...</td>\n",
       "      <td>0</td>\n",
       "      <td>0</td>\n",
       "      <td>0</td>\n",
       "      <td>0</td>\n",
       "      <td>0</td>\n",
       "      <td>0</td>\n",
       "      <td>0</td>\n",
       "      <td>0</td>\n",
       "      <td>0</td>\n",
       "      <td>6</td>\n",
       "    </tr>\n",
       "    <tr>\n",
       "      <th>3</th>\n",
       "      <td>Barisal</td>\n",
       "      <td>1995</td>\n",
       "      <td>4</td>\n",
       "      <td>34.1</td>\n",
       "      <td>25.0</td>\n",
       "      <td>0</td>\n",
       "      <td>0</td>\n",
       "      <td>0</td>\n",
       "      <td>0</td>\n",
       "      <td>0</td>\n",
       "      <td>...</td>\n",
       "      <td>0</td>\n",
       "      <td>0</td>\n",
       "      <td>0</td>\n",
       "      <td>0</td>\n",
       "      <td>0</td>\n",
       "      <td>0</td>\n",
       "      <td>0</td>\n",
       "      <td>0</td>\n",
       "      <td>NaN</td>\n",
       "      <td>12</td>\n",
       "    </tr>\n",
       "    <tr>\n",
       "      <th>4</th>\n",
       "      <td>Barisal</td>\n",
       "      <td>1995</td>\n",
       "      <td>5</td>\n",
       "      <td>33.7</td>\n",
       "      <td>26.5</td>\n",
       "      <td>0</td>\n",
       "      <td>0</td>\n",
       "      <td>0</td>\n",
       "      <td>0</td>\n",
       "      <td>0</td>\n",
       "      <td>...</td>\n",
       "      <td>0</td>\n",
       "      <td>0</td>\n",
       "      <td>0</td>\n",
       "      <td>0</td>\n",
       "      <td>0</td>\n",
       "      <td>0</td>\n",
       "      <td>0</td>\n",
       "      <td>0</td>\n",
       "      <td>0</td>\n",
       "      <td>144</td>\n",
       "    </tr>\n",
       "  </tbody>\n",
       "</table>\n",
       "<p>5 rows × 37 columns</p>\n",
       "</div>"
      ],
      "text/plain": [
       "   Station  Year  Month  High temp  Low temp  1  2  3  4  5  ... 23  24 25 26  \\\n",
       "0  Barisal  1995      1       24.9      10.7  0  0  0  0  0  ...  0   0  0  0   \n",
       "1  Barisal  1995      2       27.7      15.0  0  0  0  0  0  ...  0  21  6  0   \n",
       "2  Barisal  1995      3       33.0      19.5  6  0  0  0  0  ...  0   0  0  0   \n",
       "3  Barisal  1995      4       34.1      25.0  0  0  0  0  0  ...  0   0  0  0   \n",
       "4  Barisal  1995      5       33.7      26.5  0  0  0  0  0  ...  0   0  0  0   \n",
       "\n",
       "  27 28   29   30   31 Month_Total  \n",
       "0  0  0    0    0    0           1  \n",
       "1  0  7  NaN  NaN  NaN          62  \n",
       "2  0  0    0    0    0           6  \n",
       "3  0  0    0    0  NaN          12  \n",
       "4  0  0    0    0    0         144  \n",
       "\n",
       "[5 rows x 37 columns]"
      ]
     },
     "execution_count": 4,
     "metadata": {},
     "output_type": "execute_result"
    }
   ],
   "source": [
    "data.head()"
   ]
  },
  {
   "cell_type": "code",
   "execution_count": 5,
   "metadata": {},
   "outputs": [
    {
     "name": "stdout",
     "output_type": "stream",
     "text": [
      "<class 'pandas.core.frame.DataFrame'>\n",
      "RangeIndex: 7232 entries, 0 to 7231\n",
      "Data columns (total 37 columns):\n",
      "Station        7232 non-null object\n",
      "Year           7232 non-null int64\n",
      "Month          7232 non-null int64\n",
      "High temp      7232 non-null float64\n",
      "Low temp       7232 non-null float64\n",
      "1              7232 non-null object\n",
      "2              7232 non-null object\n",
      "3              7232 non-null object\n",
      "4              7232 non-null object\n",
      "5              7232 non-null object\n",
      "6              7232 non-null object\n",
      "7              7232 non-null object\n",
      "8              7232 non-null object\n",
      "9              7232 non-null object\n",
      "10             7232 non-null object\n",
      "11             7232 non-null object\n",
      "12             7232 non-null object\n",
      "13             7232 non-null object\n",
      "14             7232 non-null object\n",
      "15             7232 non-null object\n",
      "16             7232 non-null object\n",
      "17             7232 non-null object\n",
      "18             7232 non-null object\n",
      "19             7232 non-null object\n",
      "20             7232 non-null object\n",
      "21             7232 non-null object\n",
      "22             7232 non-null object\n",
      "23             7232 non-null object\n",
      "24             7232 non-null object\n",
      "25             7232 non-null object\n",
      "26             7232 non-null object\n",
      "27             7232 non-null object\n",
      "28             7232 non-null object\n",
      "29             6797 non-null object\n",
      "30             6629 non-null object\n",
      "31             4219 non-null object\n",
      "Month_Total    7232 non-null int64\n",
      "dtypes: float64(2), int64(3), object(32)\n",
      "memory usage: 2.0+ MB\n"
     ]
    }
   ],
   "source": [
    "data.info()"
   ]
  },
  {
   "cell_type": "code",
   "execution_count": 6,
   "metadata": {},
   "outputs": [
    {
     "data": {
      "text/plain": [
       "array([[<matplotlib.axes._subplots.AxesSubplot object at 0x0000018B68014CC0>,\n",
       "        <matplotlib.axes._subplots.AxesSubplot object at 0x0000018B680D39B0>],\n",
       "       [<matplotlib.axes._subplots.AxesSubplot object at 0x0000018B68107F60>,\n",
       "        <matplotlib.axes._subplots.AxesSubplot object at 0x0000018B688034E0>],\n",
       "       [<matplotlib.axes._subplots.AxesSubplot object at 0x0000018B68836A90>,\n",
       "        <matplotlib.axes._subplots.AxesSubplot object at 0x0000018B68872048>]],\n",
       "      dtype=object)"
      ]
     },
     "execution_count": 6,
     "metadata": {},
     "output_type": "execute_result"
    },
    {
     "data": {
      "image/png": "[encoded data removed]",
      "text/plain": [
       "<Figure size 1440x1080 with 6 Axes>"
      ]
     },
     "metadata": {
      "needs_background": "light"
     },
     "output_type": "display_data"
    }
   ],
   "source": [
    "data.hist(bins=50, figsize=(20,15))"
   ]
  },
  {
   "cell_type": "code",
   "execution_count": 7,
   "metadata": {},
   "outputs": [],
   "source": [
    "X = data.iloc[:,0:5].values\n",
    "\n",
    "y = data.iloc[:,36].values\n"
   ]
  },
  {
   "cell_type": "code",
   "execution_count": 8,
   "metadata": {},
   "outputs": [
    {
     "name": "stdout",
     "output_type": "stream",
     "text": [
      "\n",
      " [[0 1995 1 24.9 10.7]\n",
      " [0 1995 2 27.7 15.0]\n",
      " [0 1995 3 33.0 19.5]\n",
      " ...\n",
      " [31 2012 10 31.6 24.3]\n",
      " [31 2012 11 30.6 18.3]\n",
      " [31 2012 12 27.7 16.4]] \n",
      "\n"
     ]
    }
   ],
   "source": [
    "#taking careof missing data\n",
    "from sklearn.preprocessing import LabelEncoder\n",
    "labelencoder_X = LabelEncoder()\n",
    "X[:,0]= labelencoder_X.fit_transform(X[:,0])\n",
    "print(\"\\n\",X,\"\\n\")"
   ]
  },
  {
   "cell_type": "code",
   "execution_count": 9,
   "metadata": {},
   "outputs": [],
   "source": [
    "X = np.array(X)\n",
    "y = np.array(y)"
   ]
  },
  {
   "cell_type": "code",
   "execution_count": 10,
   "metadata": {},
   "outputs": [],
   "source": [
    "from sklearn.model_selection import train_test_split\n",
    "X_train, X_test, y_train, y_test = train_test_split(X,y,test_size = 0.2,train_size=0.8,random_state = 42)"
   ]
  },
  {
   "cell_type": "code",
   "execution_count": 11,
   "metadata": {},
   "outputs": [
    {
     "data": {
      "text/plain": [
       "KNeighborsRegressor(algorithm='auto', leaf_size=30, metric='minkowski',\n",
       "                    metric_params=None, n_jobs=None, n_neighbors=5, p=2,\n",
       "                    weights='uniform')"
      ]
     },
     "execution_count": 11,
     "metadata": {},
     "output_type": "execute_result"
    }
   ],
   "source": [
    "from sklearn.neighbors import KNeighborsRegressor\n",
    "neigh = KNeighborsRegressor(n_neighbors=5)\n",
    "neigh.fit(X_train,y_train)"
   ]
  },
  {
   "cell_type": "code",
   "execution_count": 12,
   "metadata": {},
   "outputs": [
    {
     "name": "stdout",
     "output_type": "stream",
     "text": [
      "Prediction Result:  [4.200e+00 4.000e-01 4.194e+02 ... 1.524e+02 0.000e+00 2.304e+02]\n"
     ]
    }
   ],
   "source": [
    "predicted1 = neigh.predict(X_test)\n",
    "print(\"Prediction Result: \",predicted1)"
   ]
  },
  {
   "cell_type": "code",
   "execution_count": 13,
   "metadata": {},
   "outputs": [
    {
     "name": "stdout",
     "output_type": "stream",
     "text": [
      "R-squared test score: 0.719\n"
     ]
    }
   ],
   "source": [
    "print('R-squared test score: {:.3f}'.format(neigh.score(X_test,y_test))) #"
   ]
  },
  {
   "cell_type": "code",
   "execution_count": 14,
   "metadata": {},
   "outputs": [
    {
     "data": {
      "image/png": "[encoded data removed]",
      "text/plain": [
       "<Figure size 432x288 with 1 Axes>"
      ]
     },
     "metadata": {
      "needs_background": "light"
     },
     "output_type": "display_data"
    }
   ],
   "source": [
    "import matplotlib.pyplot as plt\n",
    "plt.plot(y_test,label='Actual')\n",
    "plt.plot(predicted1,label='Predicted')\n",
    "plt.legend()\n",
    "plt.show()"
   ]
  },
  {
   "cell_type": "code",
   "execution_count": null,
   "metadata": {},
   "outputs": [],
   "source": []
  }
 ],
 "metadata": {
  "kernelspec": {
   "display_name": "Python 3",
   "language": "python",
   "name": "python3"
  },
  "language_info": {
   "codemirror_mode": {
    "name": "ipython",
    "version": 3
   },
   "file_extension": ".py",
   "mimetype": "text/x-python",
   "name": "python",
   "nbconvert_exporter": "python",
   "pygments_lexer": "ipython3",
   "version": "3.7.3"
  }
 },
 "nbformat": 4,
 "nbformat_minor": 2
}
